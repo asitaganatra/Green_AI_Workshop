{
  "nbformat": 4,
  "nbformat_minor": 0,
  "metadata": {
    "colab": {
      "provenance": []
    },
    "kernelspec": {
      "name": "python3",
      "display_name": "Python 3"
    },
    "language_info": {
      "name": "python"
    }
  },
  "cells": [
    {
      "cell_type": "code",
      "source": [
        "# Input temperature in Celsius\n",
        "celsius = float(input(\"Enter temperature in Celsius: \"))\n",
        "\n",
        "# Convert to Fahrenheit\n",
        "fahrenheit = celsius * (9 / 5) + 32\n",
        "\n",
        "# Output the result\n",
        "print(f\"{celsius}°C is equal to {fahrenheit}°F.\")\n"
      ],
      "metadata": {
        "colab": {
          "base_uri": "https://localhost:8080/"
        },
        "id": "W-GIYyuNCzCG",
        "outputId": "e35bf8e0-dffb-4e65-eb6f-91fde923672c"
      },
      "execution_count": null,
      "outputs": [
        {
          "output_type": "stream",
          "name": "stdout",
          "text": [
            "Enter temperature in Celsius: 25\n",
            "25.0°C is equal to 77.0°F.\n"
          ]
        }
      ]
    },
    {
      "cell_type": "code",
      "source": [
        "#Create one variable for carbon footprint\n",
        "carbon_footprint = 500.75\n",
        "print (f\"Carbon Footprint: {carbon_footprint} kg CO2\")\n"
      ],
      "metadata": {
        "colab": {
          "base_uri": "https://localhost:8080/"
        },
        "outputId": "3e3cbc44-bbd1-443b-8570-2e6259789593",
        "id": "0ZIe2bOdGSCW"
      },
      "execution_count": null,
      "outputs": [
        {
          "output_type": "stream",
          "name": "stdout",
          "text": [
            "Carbon Footprint: 500.75 kg CO2\n"
          ]
        }
      ]
    },
    {
      "cell_type": "code",
      "source": [
        "is_sustainable = carbon_footprint < 400\n",
        "print (f\"Is the city sustainable? {is_sustainable}\")"
      ],
      "metadata": {
        "colab": {
          "base_uri": "https://localhost:8080/"
        },
        "id": "THAEhCbACy46",
        "outputId": "4ec79009-f629-47ab-955f-363a6c1a55b2"
      },
      "execution_count": null,
      "outputs": [
        {
          "output_type": "stream",
          "name": "stdout",
          "text": [
            "Is the city sustainable? False\n"
          ]
        }
      ]
    },
    {
      "cell_type": "code",
      "source": [
        "#use identity operator to know if the given input is digit or not (use input)\n",
        "a=input(\"Enter a value: \")\n",
        "if a.isdigit():\n",
        "    print(\"It is a digit.\")\n",
        "else:\n",
        "    print(\"Not a digit.\")"
      ],
      "metadata": {
        "colab": {
          "base_uri": "https://localhost:8080/"
        },
        "id": "5OtHzu5OCy2B",
        "outputId": "d6781e2e-599a-4461-e09a-23b85cc450c3"
      },
      "execution_count": null,
      "outputs": [
        {
          "output_type": "stream",
          "name": "stdout",
          "text": [
            "Enter a value: 200\n",
            "It is a digit.\n"
          ]
        }
      ]
    },
    {
      "cell_type": "code",
      "source": [
        "#write a list and check if any input element is present in that list or not\n",
        "list_1=[1,2,\"Asita\",111]\n",
        "b=input(\"Enter an element: \")\n",
        "if b in list_1:\n",
        "    print(\"Element is in list.\")\n",
        "else:\n",
        "    print(\"Element is not in list.\")"
      ],
      "metadata": {
        "colab": {
          "base_uri": "https://localhost:8080/"
        },
        "id": "ePAo8bekCyzK",
        "outputId": "ecc7f2ca-d237-4d07-c32b-4d74d30b2aba"
      },
      "execution_count": null,
      "outputs": [
        {
          "output_type": "stream",
          "name": "stdout",
          "text": [
            "Enter an element: 200\n",
            "Element is not in list.\n"
          ]
        }
      ]
    },
    {
      "cell_type": "code",
      "source": [
        "#Create a simple calculator using if, elif and else\n",
        "a=float(input(\"Enter value of a: \"))\n",
        "b=float(input(\"Enter value of b: \"))\n",
        "ope=input(\"Enter the operator: \")\n",
        "if ope == \"+\":\n",
        "    print(\"Value of a+b is: \",a+b)\n",
        "elif ope == \"-\":\n",
        "    print(\"Value of a-b is: \",a-b)\n",
        "elif ope == \"*\":\n",
        "    print(\"Value of a*b is: \",a*b)\n",
        "else:\n",
        "    print(\"Value of a/b is: \",a/b)"
      ],
      "metadata": {
        "colab": {
          "base_uri": "https://localhost:8080/"
        },
        "id": "ebM_Ea8VCyoX",
        "outputId": "110f9fe8-161c-4fbf-82dc-5f62dba43419"
      },
      "execution_count": null,
      "outputs": [
        {
          "output_type": "stream",
          "name": "stdout",
          "text": [
            "Enter value of a: 200\n",
            "Enter value of b: 300\n",
            "Enter the operator: +\n",
            "Value of a+b is:  500.0\n"
          ]
        }
      ]
    },
    {
      "cell_type": "code",
      "source": [
        "#Write for loop to filter out the cities with high temperature\n",
        "climate_data = [\n",
        "    {\"city\": \"City A\", \"temperature\": 25, \"carbon_footprint\": 500},\n",
        "    {\"city\": \"City B\", \"temperature\": 30, \"carbon_footprint\": 350},\n",
        "    {\"city\": \"City C\", \"temperature\": 22, \"carbon_footprint\": 600},\n",
        "    {\"city\": \"City D\", \"temperature\": 15, \"carbon_footprint\": 200},\n",
        "    {\"city\": \"City E\", \"temperature\": 28, \"carbon_footprint\": 450},\n",
        "]\n",
        "#high temperature threshold (Cities above this temperature will be selected)\n",
        "high_temp_threshold = 26\n",
        "#use a list comprehension to filter cities with temperature higher than the threshold\n",
        "high_temp_cities = [city for city in climate_data if city[\"temperature\"] > high_temp_threshold]\n",
        "#print the result\n",
        "print(\"Cities with high temperature (> 26 degree C): \")\n",
        "for city in high_temp_cities:\n",
        "    print(f\"{city['city']}-{city['temperature']} degree C\")"
      ],
      "metadata": {
        "colab": {
          "base_uri": "https://localhost:8080/"
        },
        "id": "YQHVSsUGCyPF",
        "outputId": "d7b601a2-c067-4764-8d22-4024f55f4bc1"
      },
      "execution_count": null,
      "outputs": [
        {
          "output_type": "stream",
          "name": "stdout",
          "text": [
            "Cities with high temperature (> 26 degree C): \n",
            "City B-30 degree C\n",
            "City E-28 degree C\n"
          ]
        }
      ]
    },
    {
      "cell_type": "code",
      "source": [
        "#initialize a variabel to store the total carbon footprint\n",
        "total_carbon=0\n",
        "#use a for loop to go through each city is the dataset and add their carbon footprint\n",
        "for city in climate_data:\n",
        "    total_carbon += city[\"carbon_footprint\"] # add each city's carbon footprint in the total\n",
        "\n",
        "#calculate the average carbon footprint\n",
        "average_carbon_footprint=total_carbon/len(climate_data)\n",
        "\n",
        "#print the average result\n",
        "print(f\"\\n Average Carbon Footprint: {average_carbon_footprint:.2f} kg CO2\")"
      ],
      "metadata": {
        "colab": {
          "base_uri": "https://localhost:8080/"
        },
        "id": "1WFJrEoeHKtH",
        "outputId": "d3f504bc-b0c0-41f4-f72f-c7f12b483d22"
      },
      "execution_count": null,
      "outputs": [
        {
          "output_type": "stream",
          "name": "stdout",
          "text": [
            "\n",
            " Average Carbon Footprint: 420.00 kg CO2\n"
          ]
        }
      ]
    },
    {
      "cell_type": "code",
      "source": [
        "def add(a, b):\n",
        "    c = a + b\n",
        "    return c"
      ],
      "metadata": {
        "id": "jaTmXf5ZHOUE"
      },
      "execution_count": null,
      "outputs": []
    },
    {
      "cell_type": "code",
      "source": [
        "add(3,4)\n",
        "z = 5\n",
        "print(z)"
      ],
      "metadata": {
        "colab": {
          "base_uri": "https://localhost:8080/"
        },
        "id": "6ulV_DCyHS_e",
        "outputId": "d1110593-699d-4ed4-b024-ebfa59bae4d3"
      },
      "execution_count": null,
      "outputs": [
        {
          "output_type": "stream",
          "name": "stdout",
          "text": [
            "5\n"
          ]
        }
      ]
    },
    {
      "cell_type": "code",
      "source": [
        "y = lambda x : x + 2\n",
        "print(y(2))"
      ],
      "metadata": {
        "colab": {
          "base_uri": "https://localhost:8080/"
        },
        "id": "ts9R8WGlHWSp",
        "outputId": "b11eae8c-3ed5-4793-adbc-264a2547fff9"
      },
      "execution_count": null,
      "outputs": [
        {
          "output_type": "stream",
          "name": "stdout",
          "text": [
            "4\n"
          ]
        }
      ]
    },
    {
      "cell_type": "code",
      "source": [
        "# Use max() to find the city with the highest carbon footprint\n",
        "highest_footprint_city = max(climate_data, key=lambda city: city[\"carbon_footprint\"])\n",
        "\n",
        "# Print the result\n",
        "print(f\"{highest_footprint_city['city']} - {highest_footprint_city['carbon_footprint']} kg CO2\")\n"
      ],
      "metadata": {
        "colab": {
          "base_uri": "https://localhost:8080/"
        },
        "id": "Al6Zuuh3HbWQ",
        "outputId": "f0e68056-07c7-4215-f6a8-f28865ade208"
      },
      "execution_count": null,
      "outputs": [
        {
          "output_type": "stream",
          "name": "stdout",
          "text": [
            "City C - 600 kg CO2\n"
          ]
        }
      ]
    },
    {
      "cell_type": "code",
      "source": [
        "#write a function which will take two parameters energy consumption, energy factor and give the carbon footprint\n",
        "# Define variables for energy consumption and emission factor\n",
        "energy_consumption = 1000  # in kWh\n",
        "emission_factor = 8.475  # kg CO2 per kWh\n",
        "\n",
        "# Define the function to calculate carbon footprint\n",
        "def calculate_carbon_footprint(energy_consumption, emission_factor):\n",
        "    carbon_footprint = energy_consumption * emission_factor\n",
        "    return carbon_footprint\n",
        "\n",
        "# Calculate and print the carbon footprint\n",
        "carbon_footprint = calculate_carbon_footprint(energy_consumption, emission_factor)\n",
        "print(f\"Carbon Footprint: {carbon_footprint} kg CO2\")"
      ],
      "metadata": {
        "colab": {
          "base_uri": "https://localhost:8080/"
        },
        "id": "3lRQMcGlIhDY",
        "outputId": "d6da403d-d151-446b-a001-00919a99cf51"
      },
      "execution_count": null,
      "outputs": [
        {
          "output_type": "stream",
          "name": "stdout",
          "text": [
            "Carbon Footprint: 8475.0 kg CO2\n"
          ]
        }
      ]
    },
    {
      "cell_type": "code",
      "source": [
        "# Sustainability threshold\n",
        "sustainability_threshold = 400\n",
        "\n",
        "# Filtering sustainable cities\n",
        "sustainable_cities = list(filter(lambda city: city['carbon_footprint'] < sustainability_threshold, climate_data))\n",
        "\n",
        "# Printing the filtered list of sustainable cities\n",
        "print(\"Sustainable Cities: \")\n",
        "for city in sustainable_cities:\n",
        "    print(city[\"city\"])"
      ],
      "metadata": {
        "colab": {
          "base_uri": "https://localhost:8080/"
        },
        "id": "J2thI0m0It2w",
        "outputId": "d1daf51b-adc1-4a63-e34b-6768bb8e4b3d"
      },
      "execution_count": null,
      "outputs": [
        {
          "output_type": "stream",
          "name": "stdout",
          "text": [
            "Sustainable Cities: \n",
            "City B\n",
            "City D\n"
          ]
        }
      ]
    },
    {
      "cell_type": "code",
      "source": [
        "#use lambda function to find if a year is leap year or not\n",
        "ly = lambda year: (year % 4 == 0 and year % 100 != 0) or (year % 400 == 0)\n",
        "\n",
        "year = int(input(\"Enter a year: \"))\n",
        "print(f\"{year} is a leap year.\" if ly(year) else f\"{year} is not a leap year.\")"
      ],
      "metadata": {
        "id": "FWjhhBfWIwuE",
        "outputId": "120ba20e-1998-44ef-e7e5-5061bca8d838",
        "colab": {
          "base_uri": "https://localhost:8080/"
        }
      },
      "execution_count": null,
      "outputs": [
        {
          "output_type": "stream",
          "name": "stdout",
          "text": [
            "Enter a year: 2004\n",
            "2004 is a leap year.\n"
          ]
        }
      ]
    },
    {
      "cell_type": "markdown",
      "source": [
        "Series, DataFrames and Basic Operations"
      ],
      "metadata": {
        "id": "8FHo2NhyUCZx"
      }
    },
    {
      "cell_type": "code",
      "execution_count": null,
      "metadata": {
        "id": "Td9a7v8kS1HV"
      },
      "outputs": [],
      "source": [
        "import pandas as pd\n",
        "\n",
        "#sample renew energy sources data\n",
        "renew_sources=[\"Solar\",\"Wind\",\"Hydro\",\"Geothermal\",\"Biomass\"]\n",
        "\n",
        "#sample green tech proj data (for data frame)\n",
        "data = {\n",
        "    \"Project\": [\"Solar Farm A\", \"Wind Turbine X\", \"Hydropower Y\", \"Solar Roof Z\", \"Geothermal Plant P\"],\n",
        "    \"Technology\": [\"Solar\", \"Wind\", \"Hydropower\", \"Solar\", \"Geothermal\"],\n",
        "    \"Capacity (MW)\": [150, 300, 200, 50, 100],  # Megawatts\n",
        "    \"Cost (Million $)\": [200, 400, 350, 100, 250],  # Project cost\n",
        "    \"Location\": [\"California\", \"Texas\", \"Washington\", \"Nevada\", \"Idaho\"],\n",
        "    \"Completion Year\": [2023, 2024, 2022, 2025, 2023]\n",
        "}"
      ]
    },
    {
      "cell_type": "code",
      "source": [
        "renewable_series = pd.Series(renew_sources)\n",
        "\n",
        "print(\"Renewable Energy Sources:\")\n",
        "print(renewable_series)"
      ],
      "metadata": {
        "colab": {
          "base_uri": "https://localhost:8080/"
        },
        "id": "7rfRKhZITeR8",
        "outputId": "9e38a381-15ee-4ca7-fceb-cd83d7040cc4"
      },
      "execution_count": null,
      "outputs": [
        {
          "output_type": "stream",
          "name": "stdout",
          "text": [
            "Renewable Energy Sources:\n",
            "0         Solar\n",
            "1          Wind\n",
            "2         Hydro\n",
            "3    Geothermal\n",
            "4       Biomass\n",
            "dtype: object\n"
          ]
        }
      ]
    },
    {
      "cell_type": "code",
      "source": [
        "projects_df = pd.DataFrame(data)\n",
        "\n",
        "projects_df.head()\n",
        "#print the dataframe\n",
        "#print(\"\\nGreen Technology Projects Dataframe:\")\n",
        "#print(projects_df)"
      ],
      "metadata": {
        "colab": {
          "base_uri": "https://localhost:8080/",
          "height": 206
        },
        "id": "SAFPEHiRTzp8",
        "outputId": "840edd8c-3733-4e03-8e88-7aef007b7815"
      },
      "execution_count": null,
      "outputs": [
        {
          "output_type": "execute_result",
          "data": {
            "text/plain": [
              "              Project  Technology  Capacity (MW)  Cost (Million $)  \\\n",
              "0        Solar Farm A       Solar            150               200   \n",
              "1      Wind Turbine X        Wind            300               400   \n",
              "2        Hydropower Y  Hydropower            200               350   \n",
              "3        Solar Roof Z       Solar             50               100   \n",
              "4  Geothermal Plant P  Geothermal            100               250   \n",
              "\n",
              "     Location  Completion Year  \n",
              "0  California             2023  \n",
              "1       Texas             2024  \n",
              "2  Washington             2022  \n",
              "3      Nevada             2025  \n",
              "4       Idaho             2023  "
            ],
            "text/html": [
              "\n",
              "  <div id=\"df-3f536c5e-4091-42ff-8722-f112788e4714\" class=\"colab-df-container\">\n",
              "    <div>\n",
              "<style scoped>\n",
              "    .dataframe tbody tr th:only-of-type {\n",
              "        vertical-align: middle;\n",
              "    }\n",
              "\n",
              "    .dataframe tbody tr th {\n",
              "        vertical-align: top;\n",
              "    }\n",
              "\n",
              "    .dataframe thead th {\n",
              "        text-align: right;\n",
              "    }\n",
              "</style>\n",
              "<table border=\"1\" class=\"dataframe\">\n",
              "  <thead>\n",
              "    <tr style=\"text-align: right;\">\n",
              "      <th></th>\n",
              "      <th>Project</th>\n",
              "      <th>Technology</th>\n",
              "      <th>Capacity (MW)</th>\n",
              "      <th>Cost (Million $)</th>\n",
              "      <th>Location</th>\n",
              "      <th>Completion Year</th>\n",
              "    </tr>\n",
              "  </thead>\n",
              "  <tbody>\n",
              "    <tr>\n",
              "      <th>0</th>\n",
              "      <td>Solar Farm A</td>\n",
              "      <td>Solar</td>\n",
              "      <td>150</td>\n",
              "      <td>200</td>\n",
              "      <td>California</td>\n",
              "      <td>2023</td>\n",
              "    </tr>\n",
              "    <tr>\n",
              "      <th>1</th>\n",
              "      <td>Wind Turbine X</td>\n",
              "      <td>Wind</td>\n",
              "      <td>300</td>\n",
              "      <td>400</td>\n",
              "      <td>Texas</td>\n",
              "      <td>2024</td>\n",
              "    </tr>\n",
              "    <tr>\n",
              "      <th>2</th>\n",
              "      <td>Hydropower Y</td>\n",
              "      <td>Hydropower</td>\n",
              "      <td>200</td>\n",
              "      <td>350</td>\n",
              "      <td>Washington</td>\n",
              "      <td>2022</td>\n",
              "    </tr>\n",
              "    <tr>\n",
              "      <th>3</th>\n",
              "      <td>Solar Roof Z</td>\n",
              "      <td>Solar</td>\n",
              "      <td>50</td>\n",
              "      <td>100</td>\n",
              "      <td>Nevada</td>\n",
              "      <td>2025</td>\n",
              "    </tr>\n",
              "    <tr>\n",
              "      <th>4</th>\n",
              "      <td>Geothermal Plant P</td>\n",
              "      <td>Geothermal</td>\n",
              "      <td>100</td>\n",
              "      <td>250</td>\n",
              "      <td>Idaho</td>\n",
              "      <td>2023</td>\n",
              "    </tr>\n",
              "  </tbody>\n",
              "</table>\n",
              "</div>\n",
              "    <div class=\"colab-df-buttons\">\n",
              "\n",
              "  <div class=\"colab-df-container\">\n",
              "    <button class=\"colab-df-convert\" onclick=\"convertToInteractive('df-3f536c5e-4091-42ff-8722-f112788e4714')\"\n",
              "            title=\"Convert this dataframe to an interactive table.\"\n",
              "            style=\"display:none;\">\n",
              "\n",
              "  <svg xmlns=\"http://www.w3.org/2000/svg\" height=\"24px\" viewBox=\"0 -960 960 960\">\n",
              "    <path d=\"M120-120v-720h720v720H120Zm60-500h600v-160H180v160Zm220 220h160v-160H400v160Zm0 220h160v-160H400v160ZM180-400h160v-160H180v160Zm440 0h160v-160H620v160ZM180-180h160v-160H180v160Zm440 0h160v-160H620v160Z\"/>\n",
              "  </svg>\n",
              "    </button>\n",
              "\n",
              "  <style>\n",
              "    .colab-df-container {\n",
              "      display:flex;\n",
              "      gap: 12px;\n",
              "    }\n",
              "\n",
              "    .colab-df-convert {\n",
              "      background-color: #E8F0FE;\n",
              "      border: none;\n",
              "      border-radius: 50%;\n",
              "      cursor: pointer;\n",
              "      display: none;\n",
              "      fill: #1967D2;\n",
              "      height: 32px;\n",
              "      padding: 0 0 0 0;\n",
              "      width: 32px;\n",
              "    }\n",
              "\n",
              "    .colab-df-convert:hover {\n",
              "      background-color: #E2EBFA;\n",
              "      box-shadow: 0px 1px 2px rgba(60, 64, 67, 0.3), 0px 1px 3px 1px rgba(60, 64, 67, 0.15);\n",
              "      fill: #174EA6;\n",
              "    }\n",
              "\n",
              "    .colab-df-buttons div {\n",
              "      margin-bottom: 4px;\n",
              "    }\n",
              "\n",
              "    [theme=dark] .colab-df-convert {\n",
              "      background-color: #3B4455;\n",
              "      fill: #D2E3FC;\n",
              "    }\n",
              "\n",
              "    [theme=dark] .colab-df-convert:hover {\n",
              "      background-color: #434B5C;\n",
              "      box-shadow: 0px 1px 3px 1px rgba(0, 0, 0, 0.15);\n",
              "      filter: drop-shadow(0px 1px 2px rgba(0, 0, 0, 0.3));\n",
              "      fill: #FFFFFF;\n",
              "    }\n",
              "  </style>\n",
              "\n",
              "    <script>\n",
              "      const buttonEl =\n",
              "        document.querySelector('#df-3f536c5e-4091-42ff-8722-f112788e4714 button.colab-df-convert');\n",
              "      buttonEl.style.display =\n",
              "        google.colab.kernel.accessAllowed ? 'block' : 'none';\n",
              "\n",
              "      async function convertToInteractive(key) {\n",
              "        const element = document.querySelector('#df-3f536c5e-4091-42ff-8722-f112788e4714');\n",
              "        const dataTable =\n",
              "          await google.colab.kernel.invokeFunction('convertToInteractive',\n",
              "                                                    [key], {});\n",
              "        if (!dataTable) return;\n",
              "\n",
              "        const docLinkHtml = 'Like what you see? Visit the ' +\n",
              "          '<a target=\"_blank\" href=https://colab.research.google.com/notebooks/data_table.ipynb>data table notebook</a>'\n",
              "          + ' to learn more about interactive tables.';\n",
              "        element.innerHTML = '';\n",
              "        dataTable['output_type'] = 'display_data';\n",
              "        await google.colab.output.renderOutput(dataTable, element);\n",
              "        const docLink = document.createElement('div');\n",
              "        docLink.innerHTML = docLinkHtml;\n",
              "        element.appendChild(docLink);\n",
              "      }\n",
              "    </script>\n",
              "  </div>\n",
              "\n",
              "\n",
              "<div id=\"df-6f65a288-f417-4f4e-bf0a-5851d728c26a\">\n",
              "  <button class=\"colab-df-quickchart\" onclick=\"quickchart('df-6f65a288-f417-4f4e-bf0a-5851d728c26a')\"\n",
              "            title=\"Suggest charts\"\n",
              "            style=\"display:none;\">\n",
              "\n",
              "<svg xmlns=\"http://www.w3.org/2000/svg\" height=\"24px\"viewBox=\"0 0 24 24\"\n",
              "     width=\"24px\">\n",
              "    <g>\n",
              "        <path d=\"M19 3H5c-1.1 0-2 .9-2 2v14c0 1.1.9 2 2 2h14c1.1 0 2-.9 2-2V5c0-1.1-.9-2-2-2zM9 17H7v-7h2v7zm4 0h-2V7h2v10zm4 0h-2v-4h2v4z\"/>\n",
              "    </g>\n",
              "</svg>\n",
              "  </button>\n",
              "\n",
              "<style>\n",
              "  .colab-df-quickchart {\n",
              "      --bg-color: #E8F0FE;\n",
              "      --fill-color: #1967D2;\n",
              "      --hover-bg-color: #E2EBFA;\n",
              "      --hover-fill-color: #174EA6;\n",
              "      --disabled-fill-color: #AAA;\n",
              "      --disabled-bg-color: #DDD;\n",
              "  }\n",
              "\n",
              "  [theme=dark] .colab-df-quickchart {\n",
              "      --bg-color: #3B4455;\n",
              "      --fill-color: #D2E3FC;\n",
              "      --hover-bg-color: #434B5C;\n",
              "      --hover-fill-color: #FFFFFF;\n",
              "      --disabled-bg-color: #3B4455;\n",
              "      --disabled-fill-color: #666;\n",
              "  }\n",
              "\n",
              "  .colab-df-quickchart {\n",
              "    background-color: var(--bg-color);\n",
              "    border: none;\n",
              "    border-radius: 50%;\n",
              "    cursor: pointer;\n",
              "    display: none;\n",
              "    fill: var(--fill-color);\n",
              "    height: 32px;\n",
              "    padding: 0;\n",
              "    width: 32px;\n",
              "  }\n",
              "\n",
              "  .colab-df-quickchart:hover {\n",
              "    background-color: var(--hover-bg-color);\n",
              "    box-shadow: 0 1px 2px rgba(60, 64, 67, 0.3), 0 1px 3px 1px rgba(60, 64, 67, 0.15);\n",
              "    fill: var(--button-hover-fill-color);\n",
              "  }\n",
              "\n",
              "  .colab-df-quickchart-complete:disabled,\n",
              "  .colab-df-quickchart-complete:disabled:hover {\n",
              "    background-color: var(--disabled-bg-color);\n",
              "    fill: var(--disabled-fill-color);\n",
              "    box-shadow: none;\n",
              "  }\n",
              "\n",
              "  .colab-df-spinner {\n",
              "    border: 2px solid var(--fill-color);\n",
              "    border-color: transparent;\n",
              "    border-bottom-color: var(--fill-color);\n",
              "    animation:\n",
              "      spin 1s steps(1) infinite;\n",
              "  }\n",
              "\n",
              "  @keyframes spin {\n",
              "    0% {\n",
              "      border-color: transparent;\n",
              "      border-bottom-color: var(--fill-color);\n",
              "      border-left-color: var(--fill-color);\n",
              "    }\n",
              "    20% {\n",
              "      border-color: transparent;\n",
              "      border-left-color: var(--fill-color);\n",
              "      border-top-color: var(--fill-color);\n",
              "    }\n",
              "    30% {\n",
              "      border-color: transparent;\n",
              "      border-left-color: var(--fill-color);\n",
              "      border-top-color: var(--fill-color);\n",
              "      border-right-color: var(--fill-color);\n",
              "    }\n",
              "    40% {\n",
              "      border-color: transparent;\n",
              "      border-right-color: var(--fill-color);\n",
              "      border-top-color: var(--fill-color);\n",
              "    }\n",
              "    60% {\n",
              "      border-color: transparent;\n",
              "      border-right-color: var(--fill-color);\n",
              "    }\n",
              "    80% {\n",
              "      border-color: transparent;\n",
              "      border-right-color: var(--fill-color);\n",
              "      border-bottom-color: var(--fill-color);\n",
              "    }\n",
              "    90% {\n",
              "      border-color: transparent;\n",
              "      border-bottom-color: var(--fill-color);\n",
              "    }\n",
              "  }\n",
              "</style>\n",
              "\n",
              "  <script>\n",
              "    async function quickchart(key) {\n",
              "      const quickchartButtonEl =\n",
              "        document.querySelector('#' + key + ' button');\n",
              "      quickchartButtonEl.disabled = true;  // To prevent multiple clicks.\n",
              "      quickchartButtonEl.classList.add('colab-df-spinner');\n",
              "      try {\n",
              "        const charts = await google.colab.kernel.invokeFunction(\n",
              "            'suggestCharts', [key], {});\n",
              "      } catch (error) {\n",
              "        console.error('Error during call to suggestCharts:', error);\n",
              "      }\n",
              "      quickchartButtonEl.classList.remove('colab-df-spinner');\n",
              "      quickchartButtonEl.classList.add('colab-df-quickchart-complete');\n",
              "    }\n",
              "    (() => {\n",
              "      let quickchartButtonEl =\n",
              "        document.querySelector('#df-6f65a288-f417-4f4e-bf0a-5851d728c26a button');\n",
              "      quickchartButtonEl.style.display =\n",
              "        google.colab.kernel.accessAllowed ? 'block' : 'none';\n",
              "    })();\n",
              "  </script>\n",
              "</div>\n",
              "\n",
              "    </div>\n",
              "  </div>\n"
            ],
            "application/vnd.google.colaboratory.intrinsic+json": {
              "type": "dataframe",
              "summary": "{\n  \"name\": \"#print(projects_df)\",\n  \"rows\": 5,\n  \"fields\": [\n    {\n      \"column\": \"Project\",\n      \"properties\": {\n        \"dtype\": \"string\",\n        \"num_unique_values\": 5,\n        \"samples\": [\n          \"Wind Turbine X\",\n          \"Geothermal Plant P\",\n          \"Hydropower Y\"\n        ],\n        \"semantic_type\": \"\",\n        \"description\": \"\"\n      }\n    },\n    {\n      \"column\": \"Technology\",\n      \"properties\": {\n        \"dtype\": \"string\",\n        \"num_unique_values\": 4,\n        \"samples\": [\n          \"Wind\",\n          \"Geothermal\",\n          \"Solar\"\n        ],\n        \"semantic_type\": \"\",\n        \"description\": \"\"\n      }\n    },\n    {\n      \"column\": \"Capacity (MW)\",\n      \"properties\": {\n        \"dtype\": \"number\",\n        \"std\": 96,\n        \"min\": 50,\n        \"max\": 300,\n        \"num_unique_values\": 5,\n        \"samples\": [\n          300,\n          100,\n          200\n        ],\n        \"semantic_type\": \"\",\n        \"description\": \"\"\n      }\n    },\n    {\n      \"column\": \"Cost (Million $)\",\n      \"properties\": {\n        \"dtype\": \"number\",\n        \"std\": 119,\n        \"min\": 100,\n        \"max\": 400,\n        \"num_unique_values\": 5,\n        \"samples\": [\n          400,\n          250,\n          350\n        ],\n        \"semantic_type\": \"\",\n        \"description\": \"\"\n      }\n    },\n    {\n      \"column\": \"Location\",\n      \"properties\": {\n        \"dtype\": \"string\",\n        \"num_unique_values\": 5,\n        \"samples\": [\n          \"Texas\",\n          \"Idaho\",\n          \"Washington\"\n        ],\n        \"semantic_type\": \"\",\n        \"description\": \"\"\n      }\n    },\n    {\n      \"column\": \"Completion Year\",\n      \"properties\": {\n        \"dtype\": \"number\",\n        \"std\": 1,\n        \"min\": 2022,\n        \"max\": 2025,\n        \"num_unique_values\": 4,\n        \"samples\": [\n          2024,\n          2025,\n          2023\n        ],\n        \"semantic_type\": \"\",\n        \"description\": \"\"\n      }\n    }\n  ]\n}"
            }
          },
          "metadata": {},
          "execution_count": 6
        }
      ]
    },
    {
      "cell_type": "code",
      "source": [
        "#code to get only second and the third data\n",
        "projects_df.loc[1:3]\n"
      ],
      "metadata": {
        "colab": {
          "base_uri": "https://localhost:8080/",
          "height": 143
        },
        "id": "qe1Wyku_UTdw",
        "outputId": "bab6961d-4d43-4fc6-a4d7-a4cb0cbdae01"
      },
      "execution_count": null,
      "outputs": [
        {
          "output_type": "execute_result",
          "data": {
            "text/plain": [
              "          Project  Technology  Capacity (MW)  Cost (Million $)    Location  \\\n",
              "1  Wind Turbine X        Wind            300               400       Texas   \n",
              "2    Hydropower Y  Hydropower            200               350  Washington   \n",
              "3    Solar Roof Z       Solar             50               100      Nevada   \n",
              "\n",
              "   Completion Year  \n",
              "1             2024  \n",
              "2             2022  \n",
              "3             2025  "
            ],
            "text/html": [
              "\n",
              "  <div id=\"df-afef8444-86a6-415d-aad5-4556c299ccee\" class=\"colab-df-container\">\n",
              "    <div>\n",
              "<style scoped>\n",
              "    .dataframe tbody tr th:only-of-type {\n",
              "        vertical-align: middle;\n",
              "    }\n",
              "\n",
              "    .dataframe tbody tr th {\n",
              "        vertical-align: top;\n",
              "    }\n",
              "\n",
              "    .dataframe thead th {\n",
              "        text-align: right;\n",
              "    }\n",
              "</style>\n",
              "<table border=\"1\" class=\"dataframe\">\n",
              "  <thead>\n",
              "    <tr style=\"text-align: right;\">\n",
              "      <th></th>\n",
              "      <th>Project</th>\n",
              "      <th>Technology</th>\n",
              "      <th>Capacity (MW)</th>\n",
              "      <th>Cost (Million $)</th>\n",
              "      <th>Location</th>\n",
              "      <th>Completion Year</th>\n",
              "    </tr>\n",
              "  </thead>\n",
              "  <tbody>\n",
              "    <tr>\n",
              "      <th>1</th>\n",
              "      <td>Wind Turbine X</td>\n",
              "      <td>Wind</td>\n",
              "      <td>300</td>\n",
              "      <td>400</td>\n",
              "      <td>Texas</td>\n",
              "      <td>2024</td>\n",
              "    </tr>\n",
              "    <tr>\n",
              "      <th>2</th>\n",
              "      <td>Hydropower Y</td>\n",
              "      <td>Hydropower</td>\n",
              "      <td>200</td>\n",
              "      <td>350</td>\n",
              "      <td>Washington</td>\n",
              "      <td>2022</td>\n",
              "    </tr>\n",
              "    <tr>\n",
              "      <th>3</th>\n",
              "      <td>Solar Roof Z</td>\n",
              "      <td>Solar</td>\n",
              "      <td>50</td>\n",
              "      <td>100</td>\n",
              "      <td>Nevada</td>\n",
              "      <td>2025</td>\n",
              "    </tr>\n",
              "  </tbody>\n",
              "</table>\n",
              "</div>\n",
              "    <div class=\"colab-df-buttons\">\n",
              "\n",
              "  <div class=\"colab-df-container\">\n",
              "    <button class=\"colab-df-convert\" onclick=\"convertToInteractive('df-afef8444-86a6-415d-aad5-4556c299ccee')\"\n",
              "            title=\"Convert this dataframe to an interactive table.\"\n",
              "            style=\"display:none;\">\n",
              "\n",
              "  <svg xmlns=\"http://www.w3.org/2000/svg\" height=\"24px\" viewBox=\"0 -960 960 960\">\n",
              "    <path d=\"M120-120v-720h720v720H120Zm60-500h600v-160H180v160Zm220 220h160v-160H400v160Zm0 220h160v-160H400v160ZM180-400h160v-160H180v160Zm440 0h160v-160H620v160ZM180-180h160v-160H180v160Zm440 0h160v-160H620v160Z\"/>\n",
              "  </svg>\n",
              "    </button>\n",
              "\n",
              "  <style>\n",
              "    .colab-df-container {\n",
              "      display:flex;\n",
              "      gap: 12px;\n",
              "    }\n",
              "\n",
              "    .colab-df-convert {\n",
              "      background-color: #E8F0FE;\n",
              "      border: none;\n",
              "      border-radius: 50%;\n",
              "      cursor: pointer;\n",
              "      display: none;\n",
              "      fill: #1967D2;\n",
              "      height: 32px;\n",
              "      padding: 0 0 0 0;\n",
              "      width: 32px;\n",
              "    }\n",
              "\n",
              "    .colab-df-convert:hover {\n",
              "      background-color: #E2EBFA;\n",
              "      box-shadow: 0px 1px 2px rgba(60, 64, 67, 0.3), 0px 1px 3px 1px rgba(60, 64, 67, 0.15);\n",
              "      fill: #174EA6;\n",
              "    }\n",
              "\n",
              "    .colab-df-buttons div {\n",
              "      margin-bottom: 4px;\n",
              "    }\n",
              "\n",
              "    [theme=dark] .colab-df-convert {\n",
              "      background-color: #3B4455;\n",
              "      fill: #D2E3FC;\n",
              "    }\n",
              "\n",
              "    [theme=dark] .colab-df-convert:hover {\n",
              "      background-color: #434B5C;\n",
              "      box-shadow: 0px 1px 3px 1px rgba(0, 0, 0, 0.15);\n",
              "      filter: drop-shadow(0px 1px 2px rgba(0, 0, 0, 0.3));\n",
              "      fill: #FFFFFF;\n",
              "    }\n",
              "  </style>\n",
              "\n",
              "    <script>\n",
              "      const buttonEl =\n",
              "        document.querySelector('#df-afef8444-86a6-415d-aad5-4556c299ccee button.colab-df-convert');\n",
              "      buttonEl.style.display =\n",
              "        google.colab.kernel.accessAllowed ? 'block' : 'none';\n",
              "\n",
              "      async function convertToInteractive(key) {\n",
              "        const element = document.querySelector('#df-afef8444-86a6-415d-aad5-4556c299ccee');\n",
              "        const dataTable =\n",
              "          await google.colab.kernel.invokeFunction('convertToInteractive',\n",
              "                                                    [key], {});\n",
              "        if (!dataTable) return;\n",
              "\n",
              "        const docLinkHtml = 'Like what you see? Visit the ' +\n",
              "          '<a target=\"_blank\" href=https://colab.research.google.com/notebooks/data_table.ipynb>data table notebook</a>'\n",
              "          + ' to learn more about interactive tables.';\n",
              "        element.innerHTML = '';\n",
              "        dataTable['output_type'] = 'display_data';\n",
              "        await google.colab.output.renderOutput(dataTable, element);\n",
              "        const docLink = document.createElement('div');\n",
              "        docLink.innerHTML = docLinkHtml;\n",
              "        element.appendChild(docLink);\n",
              "      }\n",
              "    </script>\n",
              "  </div>\n",
              "\n",
              "\n",
              "<div id=\"df-473ee2cc-0b52-4663-93e3-7d24eed6da74\">\n",
              "  <button class=\"colab-df-quickchart\" onclick=\"quickchart('df-473ee2cc-0b52-4663-93e3-7d24eed6da74')\"\n",
              "            title=\"Suggest charts\"\n",
              "            style=\"display:none;\">\n",
              "\n",
              "<svg xmlns=\"http://www.w3.org/2000/svg\" height=\"24px\"viewBox=\"0 0 24 24\"\n",
              "     width=\"24px\">\n",
              "    <g>\n",
              "        <path d=\"M19 3H5c-1.1 0-2 .9-2 2v14c0 1.1.9 2 2 2h14c1.1 0 2-.9 2-2V5c0-1.1-.9-2-2-2zM9 17H7v-7h2v7zm4 0h-2V7h2v10zm4 0h-2v-4h2v4z\"/>\n",
              "    </g>\n",
              "</svg>\n",
              "  </button>\n",
              "\n",
              "<style>\n",
              "  .colab-df-quickchart {\n",
              "      --bg-color: #E8F0FE;\n",
              "      --fill-color: #1967D2;\n",
              "      --hover-bg-color: #E2EBFA;\n",
              "      --hover-fill-color: #174EA6;\n",
              "      --disabled-fill-color: #AAA;\n",
              "      --disabled-bg-color: #DDD;\n",
              "  }\n",
              "\n",
              "  [theme=dark] .colab-df-quickchart {\n",
              "      --bg-color: #3B4455;\n",
              "      --fill-color: #D2E3FC;\n",
              "      --hover-bg-color: #434B5C;\n",
              "      --hover-fill-color: #FFFFFF;\n",
              "      --disabled-bg-color: #3B4455;\n",
              "      --disabled-fill-color: #666;\n",
              "  }\n",
              "\n",
              "  .colab-df-quickchart {\n",
              "    background-color: var(--bg-color);\n",
              "    border: none;\n",
              "    border-radius: 50%;\n",
              "    cursor: pointer;\n",
              "    display: none;\n",
              "    fill: var(--fill-color);\n",
              "    height: 32px;\n",
              "    padding: 0;\n",
              "    width: 32px;\n",
              "  }\n",
              "\n",
              "  .colab-df-quickchart:hover {\n",
              "    background-color: var(--hover-bg-color);\n",
              "    box-shadow: 0 1px 2px rgba(60, 64, 67, 0.3), 0 1px 3px 1px rgba(60, 64, 67, 0.15);\n",
              "    fill: var(--button-hover-fill-color);\n",
              "  }\n",
              "\n",
              "  .colab-df-quickchart-complete:disabled,\n",
              "  .colab-df-quickchart-complete:disabled:hover {\n",
              "    background-color: var(--disabled-bg-color);\n",
              "    fill: var(--disabled-fill-color);\n",
              "    box-shadow: none;\n",
              "  }\n",
              "\n",
              "  .colab-df-spinner {\n",
              "    border: 2px solid var(--fill-color);\n",
              "    border-color: transparent;\n",
              "    border-bottom-color: var(--fill-color);\n",
              "    animation:\n",
              "      spin 1s steps(1) infinite;\n",
              "  }\n",
              "\n",
              "  @keyframes spin {\n",
              "    0% {\n",
              "      border-color: transparent;\n",
              "      border-bottom-color: var(--fill-color);\n",
              "      border-left-color: var(--fill-color);\n",
              "    }\n",
              "    20% {\n",
              "      border-color: transparent;\n",
              "      border-left-color: var(--fill-color);\n",
              "      border-top-color: var(--fill-color);\n",
              "    }\n",
              "    30% {\n",
              "      border-color: transparent;\n",
              "      border-left-color: var(--fill-color);\n",
              "      border-top-color: var(--fill-color);\n",
              "      border-right-color: var(--fill-color);\n",
              "    }\n",
              "    40% {\n",
              "      border-color: transparent;\n",
              "      border-right-color: var(--fill-color);\n",
              "      border-top-color: var(--fill-color);\n",
              "    }\n",
              "    60% {\n",
              "      border-color: transparent;\n",
              "      border-right-color: var(--fill-color);\n",
              "    }\n",
              "    80% {\n",
              "      border-color: transparent;\n",
              "      border-right-color: var(--fill-color);\n",
              "      border-bottom-color: var(--fill-color);\n",
              "    }\n",
              "    90% {\n",
              "      border-color: transparent;\n",
              "      border-bottom-color: var(--fill-color);\n",
              "    }\n",
              "  }\n",
              "</style>\n",
              "\n",
              "  <script>\n",
              "    async function quickchart(key) {\n",
              "      const quickchartButtonEl =\n",
              "        document.querySelector('#' + key + ' button');\n",
              "      quickchartButtonEl.disabled = true;  // To prevent multiple clicks.\n",
              "      quickchartButtonEl.classList.add('colab-df-spinner');\n",
              "      try {\n",
              "        const charts = await google.colab.kernel.invokeFunction(\n",
              "            'suggestCharts', [key], {});\n",
              "      } catch (error) {\n",
              "        console.error('Error during call to suggestCharts:', error);\n",
              "      }\n",
              "      quickchartButtonEl.classList.remove('colab-df-spinner');\n",
              "      quickchartButtonEl.classList.add('colab-df-quickchart-complete');\n",
              "    }\n",
              "    (() => {\n",
              "      let quickchartButtonEl =\n",
              "        document.querySelector('#df-473ee2cc-0b52-4663-93e3-7d24eed6da74 button');\n",
              "      quickchartButtonEl.style.display =\n",
              "        google.colab.kernel.accessAllowed ? 'block' : 'none';\n",
              "    })();\n",
              "  </script>\n",
              "</div>\n",
              "\n",
              "    </div>\n",
              "  </div>\n"
            ],
            "application/vnd.google.colaboratory.intrinsic+json": {
              "type": "dataframe",
              "summary": "{\n  \"name\": \"projects_df\",\n  \"rows\": 3,\n  \"fields\": [\n    {\n      \"column\": \"Project\",\n      \"properties\": {\n        \"dtype\": \"string\",\n        \"num_unique_values\": 3,\n        \"samples\": [\n          \"Wind Turbine X\",\n          \"Hydropower Y\",\n          \"Solar Roof Z\"\n        ],\n        \"semantic_type\": \"\",\n        \"description\": \"\"\n      }\n    },\n    {\n      \"column\": \"Technology\",\n      \"properties\": {\n        \"dtype\": \"string\",\n        \"num_unique_values\": 3,\n        \"samples\": [\n          \"Wind\",\n          \"Hydropower\",\n          \"Solar\"\n        ],\n        \"semantic_type\": \"\",\n        \"description\": \"\"\n      }\n    },\n    {\n      \"column\": \"Capacity (MW)\",\n      \"properties\": {\n        \"dtype\": \"number\",\n        \"std\": 125,\n        \"min\": 50,\n        \"max\": 300,\n        \"num_unique_values\": 3,\n        \"samples\": [\n          300,\n          200,\n          50\n        ],\n        \"semantic_type\": \"\",\n        \"description\": \"\"\n      }\n    },\n    {\n      \"column\": \"Cost (Million $)\",\n      \"properties\": {\n        \"dtype\": \"number\",\n        \"std\": 160,\n        \"min\": 100,\n        \"max\": 400,\n        \"num_unique_values\": 3,\n        \"samples\": [\n          400,\n          350,\n          100\n        ],\n        \"semantic_type\": \"\",\n        \"description\": \"\"\n      }\n    },\n    {\n      \"column\": \"Location\",\n      \"properties\": {\n        \"dtype\": \"string\",\n        \"num_unique_values\": 3,\n        \"samples\": [\n          \"Texas\",\n          \"Washington\",\n          \"Nevada\"\n        ],\n        \"semantic_type\": \"\",\n        \"description\": \"\"\n      }\n    },\n    {\n      \"column\": \"Completion Year\",\n      \"properties\": {\n        \"dtype\": \"number\",\n        \"std\": 1,\n        \"min\": 2022,\n        \"max\": 2025,\n        \"num_unique_values\": 3,\n        \"samples\": [\n          2024,\n          2022,\n          2025\n        ],\n        \"semantic_type\": \"\",\n        \"description\": \"\"\n      }\n    }\n  ]\n}"
            }
          },
          "metadata": {},
          "execution_count": 7
        }
      ]
    },
    {
      "cell_type": "code",
      "source": [
        "projects_df.describe()"
      ],
      "metadata": {
        "colab": {
          "base_uri": "https://localhost:8080/",
          "height": 300
        },
        "id": "jJ9DNIwRWGgV",
        "outputId": "96a529d8-3c71-4866-b440-51d4d6ea7f09"
      },
      "execution_count": null,
      "outputs": [
        {
          "output_type": "execute_result",
          "data": {
            "text/plain": [
              "       Capacity (MW)  Cost (Million $)  Completion Year\n",
              "count        5.00000          5.000000         5.000000\n",
              "mean       160.00000        260.000000      2023.400000\n",
              "std         96.17692        119.373364         1.140175\n",
              "min         50.00000        100.000000      2022.000000\n",
              "25%        100.00000        200.000000      2023.000000\n",
              "50%        150.00000        250.000000      2023.000000\n",
              "75%        200.00000        350.000000      2024.000000\n",
              "max        300.00000        400.000000      2025.000000"
            ],
            "text/html": [
              "\n",
              "  <div id=\"df-734e2580-8385-4ec4-815d-afbf5a49b92f\" class=\"colab-df-container\">\n",
              "    <div>\n",
              "<style scoped>\n",
              "    .dataframe tbody tr th:only-of-type {\n",
              "        vertical-align: middle;\n",
              "    }\n",
              "\n",
              "    .dataframe tbody tr th {\n",
              "        vertical-align: top;\n",
              "    }\n",
              "\n",
              "    .dataframe thead th {\n",
              "        text-align: right;\n",
              "    }\n",
              "</style>\n",
              "<table border=\"1\" class=\"dataframe\">\n",
              "  <thead>\n",
              "    <tr style=\"text-align: right;\">\n",
              "      <th></th>\n",
              "      <th>Capacity (MW)</th>\n",
              "      <th>Cost (Million $)</th>\n",
              "      <th>Completion Year</th>\n",
              "    </tr>\n",
              "  </thead>\n",
              "  <tbody>\n",
              "    <tr>\n",
              "      <th>count</th>\n",
              "      <td>5.00000</td>\n",
              "      <td>5.000000</td>\n",
              "      <td>5.000000</td>\n",
              "    </tr>\n",
              "    <tr>\n",
              "      <th>mean</th>\n",
              "      <td>160.00000</td>\n",
              "      <td>260.000000</td>\n",
              "      <td>2023.400000</td>\n",
              "    </tr>\n",
              "    <tr>\n",
              "      <th>std</th>\n",
              "      <td>96.17692</td>\n",
              "      <td>119.373364</td>\n",
              "      <td>1.140175</td>\n",
              "    </tr>\n",
              "    <tr>\n",
              "      <th>min</th>\n",
              "      <td>50.00000</td>\n",
              "      <td>100.000000</td>\n",
              "      <td>2022.000000</td>\n",
              "    </tr>\n",
              "    <tr>\n",
              "      <th>25%</th>\n",
              "      <td>100.00000</td>\n",
              "      <td>200.000000</td>\n",
              "      <td>2023.000000</td>\n",
              "    </tr>\n",
              "    <tr>\n",
              "      <th>50%</th>\n",
              "      <td>150.00000</td>\n",
              "      <td>250.000000</td>\n",
              "      <td>2023.000000</td>\n",
              "    </tr>\n",
              "    <tr>\n",
              "      <th>75%</th>\n",
              "      <td>200.00000</td>\n",
              "      <td>350.000000</td>\n",
              "      <td>2024.000000</td>\n",
              "    </tr>\n",
              "    <tr>\n",
              "      <th>max</th>\n",
              "      <td>300.00000</td>\n",
              "      <td>400.000000</td>\n",
              "      <td>2025.000000</td>\n",
              "    </tr>\n",
              "  </tbody>\n",
              "</table>\n",
              "</div>\n",
              "    <div class=\"colab-df-buttons\">\n",
              "\n",
              "  <div class=\"colab-df-container\">\n",
              "    <button class=\"colab-df-convert\" onclick=\"convertToInteractive('df-734e2580-8385-4ec4-815d-afbf5a49b92f')\"\n",
              "            title=\"Convert this dataframe to an interactive table.\"\n",
              "            style=\"display:none;\">\n",
              "\n",
              "  <svg xmlns=\"http://www.w3.org/2000/svg\" height=\"24px\" viewBox=\"0 -960 960 960\">\n",
              "    <path d=\"M120-120v-720h720v720H120Zm60-500h600v-160H180v160Zm220 220h160v-160H400v160Zm0 220h160v-160H400v160ZM180-400h160v-160H180v160Zm440 0h160v-160H620v160ZM180-180h160v-160H180v160Zm440 0h160v-160H620v160Z\"/>\n",
              "  </svg>\n",
              "    </button>\n",
              "\n",
              "  <style>\n",
              "    .colab-df-container {\n",
              "      display:flex;\n",
              "      gap: 12px;\n",
              "    }\n",
              "\n",
              "    .colab-df-convert {\n",
              "      background-color: #E8F0FE;\n",
              "      border: none;\n",
              "      border-radius: 50%;\n",
              "      cursor: pointer;\n",
              "      display: none;\n",
              "      fill: #1967D2;\n",
              "      height: 32px;\n",
              "      padding: 0 0 0 0;\n",
              "      width: 32px;\n",
              "    }\n",
              "\n",
              "    .colab-df-convert:hover {\n",
              "      background-color: #E2EBFA;\n",
              "      box-shadow: 0px 1px 2px rgba(60, 64, 67, 0.3), 0px 1px 3px 1px rgba(60, 64, 67, 0.15);\n",
              "      fill: #174EA6;\n",
              "    }\n",
              "\n",
              "    .colab-df-buttons div {\n",
              "      margin-bottom: 4px;\n",
              "    }\n",
              "\n",
              "    [theme=dark] .colab-df-convert {\n",
              "      background-color: #3B4455;\n",
              "      fill: #D2E3FC;\n",
              "    }\n",
              "\n",
              "    [theme=dark] .colab-df-convert:hover {\n",
              "      background-color: #434B5C;\n",
              "      box-shadow: 0px 1px 3px 1px rgba(0, 0, 0, 0.15);\n",
              "      filter: drop-shadow(0px 1px 2px rgba(0, 0, 0, 0.3));\n",
              "      fill: #FFFFFF;\n",
              "    }\n",
              "  </style>\n",
              "\n",
              "    <script>\n",
              "      const buttonEl =\n",
              "        document.querySelector('#df-734e2580-8385-4ec4-815d-afbf5a49b92f button.colab-df-convert');\n",
              "      buttonEl.style.display =\n",
              "        google.colab.kernel.accessAllowed ? 'block' : 'none';\n",
              "\n",
              "      async function convertToInteractive(key) {\n",
              "        const element = document.querySelector('#df-734e2580-8385-4ec4-815d-afbf5a49b92f');\n",
              "        const dataTable =\n",
              "          await google.colab.kernel.invokeFunction('convertToInteractive',\n",
              "                                                    [key], {});\n",
              "        if (!dataTable) return;\n",
              "\n",
              "        const docLinkHtml = 'Like what you see? Visit the ' +\n",
              "          '<a target=\"_blank\" href=https://colab.research.google.com/notebooks/data_table.ipynb>data table notebook</a>'\n",
              "          + ' to learn more about interactive tables.';\n",
              "        element.innerHTML = '';\n",
              "        dataTable['output_type'] = 'display_data';\n",
              "        await google.colab.output.renderOutput(dataTable, element);\n",
              "        const docLink = document.createElement('div');\n",
              "        docLink.innerHTML = docLinkHtml;\n",
              "        element.appendChild(docLink);\n",
              "      }\n",
              "    </script>\n",
              "  </div>\n",
              "\n",
              "\n",
              "<div id=\"df-91fea8cd-a4b1-46cf-9459-7704b203940e\">\n",
              "  <button class=\"colab-df-quickchart\" onclick=\"quickchart('df-91fea8cd-a4b1-46cf-9459-7704b203940e')\"\n",
              "            title=\"Suggest charts\"\n",
              "            style=\"display:none;\">\n",
              "\n",
              "<svg xmlns=\"http://www.w3.org/2000/svg\" height=\"24px\"viewBox=\"0 0 24 24\"\n",
              "     width=\"24px\">\n",
              "    <g>\n",
              "        <path d=\"M19 3H5c-1.1 0-2 .9-2 2v14c0 1.1.9 2 2 2h14c1.1 0 2-.9 2-2V5c0-1.1-.9-2-2-2zM9 17H7v-7h2v7zm4 0h-2V7h2v10zm4 0h-2v-4h2v4z\"/>\n",
              "    </g>\n",
              "</svg>\n",
              "  </button>\n",
              "\n",
              "<style>\n",
              "  .colab-df-quickchart {\n",
              "      --bg-color: #E8F0FE;\n",
              "      --fill-color: #1967D2;\n",
              "      --hover-bg-color: #E2EBFA;\n",
              "      --hover-fill-color: #174EA6;\n",
              "      --disabled-fill-color: #AAA;\n",
              "      --disabled-bg-color: #DDD;\n",
              "  }\n",
              "\n",
              "  [theme=dark] .colab-df-quickchart {\n",
              "      --bg-color: #3B4455;\n",
              "      --fill-color: #D2E3FC;\n",
              "      --hover-bg-color: #434B5C;\n",
              "      --hover-fill-color: #FFFFFF;\n",
              "      --disabled-bg-color: #3B4455;\n",
              "      --disabled-fill-color: #666;\n",
              "  }\n",
              "\n",
              "  .colab-df-quickchart {\n",
              "    background-color: var(--bg-color);\n",
              "    border: none;\n",
              "    border-radius: 50%;\n",
              "    cursor: pointer;\n",
              "    display: none;\n",
              "    fill: var(--fill-color);\n",
              "    height: 32px;\n",
              "    padding: 0;\n",
              "    width: 32px;\n",
              "  }\n",
              "\n",
              "  .colab-df-quickchart:hover {\n",
              "    background-color: var(--hover-bg-color);\n",
              "    box-shadow: 0 1px 2px rgba(60, 64, 67, 0.3), 0 1px 3px 1px rgba(60, 64, 67, 0.15);\n",
              "    fill: var(--button-hover-fill-color);\n",
              "  }\n",
              "\n",
              "  .colab-df-quickchart-complete:disabled,\n",
              "  .colab-df-quickchart-complete:disabled:hover {\n",
              "    background-color: var(--disabled-bg-color);\n",
              "    fill: var(--disabled-fill-color);\n",
              "    box-shadow: none;\n",
              "  }\n",
              "\n",
              "  .colab-df-spinner {\n",
              "    border: 2px solid var(--fill-color);\n",
              "    border-color: transparent;\n",
              "    border-bottom-color: var(--fill-color);\n",
              "    animation:\n",
              "      spin 1s steps(1) infinite;\n",
              "  }\n",
              "\n",
              "  @keyframes spin {\n",
              "    0% {\n",
              "      border-color: transparent;\n",
              "      border-bottom-color: var(--fill-color);\n",
              "      border-left-color: var(--fill-color);\n",
              "    }\n",
              "    20% {\n",
              "      border-color: transparent;\n",
              "      border-left-color: var(--fill-color);\n",
              "      border-top-color: var(--fill-color);\n",
              "    }\n",
              "    30% {\n",
              "      border-color: transparent;\n",
              "      border-left-color: var(--fill-color);\n",
              "      border-top-color: var(--fill-color);\n",
              "      border-right-color: var(--fill-color);\n",
              "    }\n",
              "    40% {\n",
              "      border-color: transparent;\n",
              "      border-right-color: var(--fill-color);\n",
              "      border-top-color: var(--fill-color);\n",
              "    }\n",
              "    60% {\n",
              "      border-color: transparent;\n",
              "      border-right-color: var(--fill-color);\n",
              "    }\n",
              "    80% {\n",
              "      border-color: transparent;\n",
              "      border-right-color: var(--fill-color);\n",
              "      border-bottom-color: var(--fill-color);\n",
              "    }\n",
              "    90% {\n",
              "      border-color: transparent;\n",
              "      border-bottom-color: var(--fill-color);\n",
              "    }\n",
              "  }\n",
              "</style>\n",
              "\n",
              "  <script>\n",
              "    async function quickchart(key) {\n",
              "      const quickchartButtonEl =\n",
              "        document.querySelector('#' + key + ' button');\n",
              "      quickchartButtonEl.disabled = true;  // To prevent multiple clicks.\n",
              "      quickchartButtonEl.classList.add('colab-df-spinner');\n",
              "      try {\n",
              "        const charts = await google.colab.kernel.invokeFunction(\n",
              "            'suggestCharts', [key], {});\n",
              "      } catch (error) {\n",
              "        console.error('Error during call to suggestCharts:', error);\n",
              "      }\n",
              "      quickchartButtonEl.classList.remove('colab-df-spinner');\n",
              "      quickchartButtonEl.classList.add('colab-df-quickchart-complete');\n",
              "    }\n",
              "    (() => {\n",
              "      let quickchartButtonEl =\n",
              "        document.querySelector('#df-91fea8cd-a4b1-46cf-9459-7704b203940e button');\n",
              "      quickchartButtonEl.style.display =\n",
              "        google.colab.kernel.accessAllowed ? 'block' : 'none';\n",
              "    })();\n",
              "  </script>\n",
              "</div>\n",
              "\n",
              "    </div>\n",
              "  </div>\n"
            ],
            "application/vnd.google.colaboratory.intrinsic+json": {
              "type": "dataframe",
              "summary": "{\n  \"name\": \"projects_df\",\n  \"rows\": 8,\n  \"fields\": [\n    {\n      \"column\": \"Capacity (MW)\",\n      \"properties\": {\n        \"dtype\": \"number\",\n        \"std\": 91.89508223715079,\n        \"min\": 5.0,\n        \"max\": 300.0,\n        \"num_unique_values\": 8,\n        \"samples\": [\n          160.0,\n          150.0,\n          5.0\n        ],\n        \"semantic_type\": \"\",\n        \"description\": \"\"\n      }\n    },\n    {\n      \"column\": \"Cost (Million $)\",\n      \"properties\": {\n        \"dtype\": \"number\",\n        \"std\": 132.14483200994124,\n        \"min\": 5.0,\n        \"max\": 400.0,\n        \"num_unique_values\": 8,\n        \"samples\": [\n          260.0,\n          250.0,\n          5.0\n        ],\n        \"semantic_type\": \"\",\n        \"description\": \"\"\n      }\n    },\n    {\n      \"column\": \"Completion Year\",\n      \"properties\": {\n        \"dtype\": \"number\",\n        \"std\": 935.2319865640671,\n        \"min\": 1.140175425099138,\n        \"max\": 2025.0,\n        \"num_unique_values\": 7,\n        \"samples\": [\n          5.0,\n          2023.4,\n          2024.0\n        ],\n        \"semantic_type\": \"\",\n        \"description\": \"\"\n      }\n    }\n  ]\n}"
            }
          },
          "metadata": {},
          "execution_count": 8
        }
      ]
    },
    {
      "cell_type": "code",
      "source": [
        "#filter project with capacity greater than 100 MW\n",
        "filtered_projects = projects_df[projects_df[\"Capacity (MW)\"] > 100]\n",
        "\n",
        "print(\"\\nProjects with Capacity Greater than 100 MW:\")\n",
        "print(filtered_projects)"
      ],
      "metadata": {
        "colab": {
          "base_uri": "https://localhost:8080/"
        },
        "id": "9_77Xd2xZ_pC",
        "outputId": "6eb8f0c5-3a0b-4178-8145-72f7b0119a6b"
      },
      "execution_count": null,
      "outputs": [
        {
          "output_type": "stream",
          "name": "stdout",
          "text": [
            "\n",
            "Projects with Capacity Greater than 100 MW:\n",
            "          Project  Technology  Capacity (MW)  Cost (Million $)    Location  \\\n",
            "0    Solar Farm A       Solar            150               200  California   \n",
            "1  Wind Turbine X        Wind            300               400       Texas   \n",
            "2    Hydropower Y  Hydropower            200               350  Washington   \n",
            "\n",
            "   Completion Year  \n",
            "0             2023  \n",
            "1             2024  \n",
            "2             2022  \n"
          ]
        }
      ]
    },
    {
      "cell_type": "code",
      "source": [
        "#calculate cost per MW for each project and represent it in a new column\n",
        "projects_df[\"Cost per MW\"] = projects_df[\"Cost (Million $)\"] / projects_df[\"Capacity (MW)\"]\n",
        "\n",
        "print(\"\\nGreen Technology Projects Dataframe with Cost per MW:\")\n",
        "print(projects_df)"
      ],
      "metadata": {
        "colab": {
          "base_uri": "https://localhost:8080/"
        },
        "id": "qEREDehtcFIJ",
        "outputId": "700fb697-1aa9-4eba-c631-b05570c9046f"
      },
      "execution_count": null,
      "outputs": [
        {
          "output_type": "stream",
          "name": "stdout",
          "text": [
            "\n",
            "Green Technology Projects Dataframe with Cost per MW:\n",
            "              Project  Technology  Capacity (MW)  Cost (Million $)  \\\n",
            "0        Solar Farm A       Solar            150               200   \n",
            "1      Wind Turbine X        Wind            300               400   \n",
            "2        Hydropower Y  Hydropower            200               350   \n",
            "3        Solar Roof Z       Solar             50               100   \n",
            "4  Geothermal Plant P  Geothermal            100               250   \n",
            "\n",
            "     Location  Completion Year  Cost per MW  \n",
            "0  California             2023     1.333333  \n",
            "1       Texas             2024     1.333333  \n",
            "2  Washington             2022     1.750000  \n",
            "3      Nevada             2025     2.000000  \n",
            "4       Idaho             2023     2.500000  \n"
          ]
        }
      ]
    },
    {
      "cell_type": "code",
      "source": [
        "#aggregate the total capacity and cost\n",
        "total_capacity=projects_df[\"Capacity (MW)\"].sum()\n",
        "total_cost=projects_df[\"Cost (Million $)\"].sum()\n",
        "\n",
        "print(f\"\\nTotal Capacity of all projects: {total_capacity} MW\")\n",
        "print(f\"Total Cost of all projects: {total_cost} Million $\")"
      ],
      "metadata": {
        "colab": {
          "base_uri": "https://localhost:8080/"
        },
        "id": "4PjEtmXpuqWd",
        "outputId": "f7ef801a-ff60-4a47-c06c-be7399ebc5df"
      },
      "execution_count": null,
      "outputs": [
        {
          "output_type": "stream",
          "name": "stdout",
          "text": [
            "\n",
            "Total Capacity of all projects: 800 MW\n",
            "Total Cost of all projects: 1300 Million $\n"
          ]
        }
      ]
    },
    {
      "cell_type": "code",
      "source": [
        "#group by \"Technology\" and calculate total capacity for each type\n",
        "grouped_data = projects_df.groupby(\"Technology\")[\"Capacity (MW)\"].sum()\n",
        "\n",
        "print(\"\\nTotal Capacity by Technology:\")\n",
        "print(grouped_data)"
      ],
      "metadata": {
        "colab": {
          "base_uri": "https://localhost:8080/"
        },
        "id": "MxFnYyUdv_IA",
        "outputId": "7102cda0-54df-450b-de3d-f26dceb34ef7"
      },
      "execution_count": null,
      "outputs": [
        {
          "output_type": "stream",
          "name": "stdout",
          "text": [
            "\n",
            "Total Capacity by Technology:\n",
            "Technology\n",
            "Geothermal    100\n",
            "Hydropower    200\n",
            "Solar         200\n",
            "Wind          300\n",
            "Name: Capacity (MW), dtype: int64\n"
          ]
        }
      ]
    },
    {
      "cell_type": "code",
      "source": [
        "#numpy means numerical python\n",
        "import numpy as np\n"
      ],
      "metadata": {
        "id": "IbYRYqgQxTor"
      },
      "execution_count": null,
      "outputs": []
    },
    {
      "cell_type": "code",
      "source": [
        "#one dimensional array\n",
        "one_d_array = np.array([1,2,3,4,5])\n",
        "print(one_d_array)\n"
      ],
      "metadata": {
        "colab": {
          "base_uri": "https://localhost:8080/"
        },
        "id": "RTngeKB8zHP-",
        "outputId": "79df9627-ba77-42fc-93fb-c6d07c99ab69"
      },
      "execution_count": null,
      "outputs": [
        {
          "output_type": "stream",
          "name": "stdout",
          "text": [
            "[1 2 3 4 5]\n"
          ]
        }
      ]
    },
    {
      "cell_type": "code",
      "source": [
        "#create two dimensional array\n",
        "two_d_array = np.array([[1,2,3],[4,5,6],[7,8,9]])\n",
        "print(two_d_array)"
      ],
      "metadata": {
        "colab": {
          "base_uri": "https://localhost:8080/"
        },
        "id": "fNRbBTqDzary",
        "outputId": "1809a8c2-c5f9-4650-a89a-6d0567eaf5c2"
      },
      "execution_count": null,
      "outputs": [
        {
          "output_type": "stream",
          "name": "stdout",
          "text": [
            "[[1 2 3]\n",
            " [4 5 6]\n",
            " [7 8 9]]\n"
          ]
        }
      ]
    },
    {
      "cell_type": "markdown",
      "source": [
        "A numpy array has following attributes:\n",
        "1.ndarray shape\n",
        "2.ndarray.ndim\n",
        "3.ndarray.size\n",
        "5.ndarray.dtype\n",
        "6.ndarray.itemsize"
      ],
      "metadata": {
        "id": "1O0IGxl60G8H"
      }
    },
    {
      "cell_type": "code",
      "source": [
        "print(two_d_array.shape)\n",
        "print(two_d_array.ndim)\n",
        "print(two_d_array.size)\n",
        "print(two_d_array.dtype)\n",
        "print(two_d_array.itemsize)"
      ],
      "metadata": {
        "colab": {
          "base_uri": "https://localhost:8080/"
        },
        "id": "CdunJ6gr0gEa",
        "outputId": "716fe3db-a32f-4563-d391-73f057f8baf0"
      },
      "execution_count": null,
      "outputs": [
        {
          "output_type": "stream",
          "name": "stdout",
          "text": [
            "(3, 3)\n",
            "2\n",
            "9\n",
            "int64\n",
            "8\n"
          ]
        }
      ]
    },
    {
      "cell_type": "markdown",
      "source": [
        "NumPy Vs List:"
      ],
      "metadata": {
        "id": "2OWC6QUW1EMN"
      }
    },
    {
      "cell_type": "code",
      "source": [
        "np.ones(3)"
      ],
      "metadata": {
        "colab": {
          "base_uri": "https://localhost:8080/"
        },
        "id": "NkDRQqhu1evo",
        "outputId": "2de9499f-c323-4300-8ba7-9eda3e9b7eb0"
      },
      "execution_count": null,
      "outputs": [
        {
          "output_type": "execute_result",
          "data": {
            "text/plain": [
              "array([1., 1., 1.])"
            ]
          },
          "metadata": {},
          "execution_count": 20
        }
      ]
    },
    {
      "cell_type": "code",
      "source": [
        "np.zeros(3)"
      ],
      "metadata": {
        "colab": {
          "base_uri": "https://localhost:8080/"
        },
        "id": "kaAk2pOS2LIR",
        "outputId": "290e2700-d5d1-4718-9e9b-e03ef40d9827"
      },
      "execution_count": null,
      "outputs": [
        {
          "output_type": "execute_result",
          "data": {
            "text/plain": [
              "array([0., 0., 0.])"
            ]
          },
          "metadata": {},
          "execution_count": 22
        }
      ]
    },
    {
      "cell_type": "code",
      "source": [
        "np.random.random(3)"
      ],
      "metadata": {
        "colab": {
          "base_uri": "https://localhost:8080/"
        },
        "id": "uGLaLuQo2Toc",
        "outputId": "4b5fdb2e-67a5-45bb-e91e-d9a842f49bc4"
      },
      "execution_count": null,
      "outputs": [
        {
          "output_type": "execute_result",
          "data": {
            "text/plain": [
              "array([0.17026417, 0.14646539, 0.01057196])"
            ]
          },
          "metadata": {},
          "execution_count": 23
        }
      ]
    },
    {
      "cell_type": "code",
      "source": [
        "#to get an array with specified input element of desired shape\n",
        "array = np.full((2,3),7)\n",
        "print(array)\n"
      ],
      "metadata": {
        "colab": {
          "base_uri": "https://localhost:8080/"
        },
        "id": "wmmGHAvy2XoX",
        "outputId": "8a2e4374-c69e-4612-ac8a-fa14570cba38"
      },
      "execution_count": null,
      "outputs": [
        {
          "output_type": "stream",
          "name": "stdout",
          "text": [
            "[[7 7 7]\n",
            " [7 7 7]]\n"
          ]
        }
      ]
    },
    {
      "cell_type": "code",
      "source": [
        "#write the code to get the identity matrix\n",
        "identity_matrix = np.eye(3)\n",
        "print(identity_matrix)\n"
      ],
      "metadata": {
        "colab": {
          "base_uri": "https://localhost:8080/"
        },
        "id": "xaW3rAW02vPv",
        "outputId": "e6bf8e25-66fa-4a82-c494-3fda2fdad154"
      },
      "execution_count": null,
      "outputs": [
        {
          "output_type": "stream",
          "name": "stdout",
          "text": [
            "[[1. 0. 0.]\n",
            " [0. 1. 0.]\n",
            " [0. 0. 1.]]\n"
          ]
        }
      ]
    },
    {
      "cell_type": "code",
      "source": [
        "identity_matrix = np.identity(3)\n",
        "print(identity_matrix)"
      ],
      "metadata": {
        "colab": {
          "base_uri": "https://localhost:8080/"
        },
        "id": "Fh5nyG5k24X_",
        "outputId": "cd7d660f-c382-42cb-e936-f7791782ef29"
      },
      "execution_count": null,
      "outputs": [
        {
          "output_type": "stream",
          "name": "stdout",
          "text": [
            "[[1. 0. 0.]\n",
            " [0. 1. 0.]\n",
            " [0. 0. 1.]]\n"
          ]
        }
      ]
    },
    {
      "cell_type": "code",
      "source": [
        "#create an array with elements from 5 to 10 (exclusive)\n",
        "#parameters for the functions -  np.arrange(start, stop, step, dtype)\n",
        "array = np.arange(5,10)\n",
        "print(array)"
      ],
      "metadata": {
        "colab": {
          "base_uri": "https://localhost:8080/"
        },
        "id": "PLRBFyW83HjM",
        "outputId": "d8653c25-c49a-4e7a-8860-03eb54480783"
      },
      "execution_count": null,
      "outputs": [
        {
          "output_type": "stream",
          "name": "stdout",
          "text": [
            "[5 6 7 8 9]\n"
          ]
        }
      ]
    },
    {
      "cell_type": "code",
      "source": [
        "linspace_array1= np.linspace(5,10,3)\n",
        "print(linspace_array1)"
      ],
      "metadata": {
        "colab": {
          "base_uri": "https://localhost:8080/"
        },
        "id": "k4hdIvIo3ors",
        "outputId": "1cd9613a-39e6-4022-f17a-ccef97f76da7"
      },
      "execution_count": null,
      "outputs": [
        {
          "output_type": "stream",
          "name": "stdout",
          "text": [
            "[ 5.   7.5 10. ]\n"
          ]
        }
      ]
    },
    {
      "cell_type": "code",
      "source": [
        "linspace_array2 = np.linspace(2.0, 3.0, num=6,retstep = True)\n",
        "print(linspace_array2)"
      ],
      "metadata": {
        "colab": {
          "base_uri": "https://localhost:8080/"
        },
        "id": "iJzShhKg4uU6",
        "outputId": "33295a72-7da4-4e57-ee82-66d5b09fcf8c"
      },
      "execution_count": null,
      "outputs": [
        {
          "output_type": "stream",
          "name": "stdout",
          "text": [
            "(array([2. , 2.2, 2.4, 2.6, 2.8, 3. ]), 0.2)\n"
          ]
        }
      ]
    },
    {
      "cell_type": "code",
      "source": [
        "#accessing element in 1 d numpy array\n",
        "data =  np.array([1,2,3,4,5])\n",
        "print(data[0])\n",
        "print(data[1])\n"
      ],
      "metadata": {
        "colab": {
          "base_uri": "https://localhost:8080/"
        },
        "id": "KRTWvQlJ4PRz",
        "outputId": "00eb5bc4-939a-4847-a48a-55298e3c05b9"
      },
      "execution_count": null,
      "outputs": [
        {
          "output_type": "stream",
          "name": "stdout",
          "text": [
            "1\n",
            "2\n"
          ]
        }
      ]
    },
    {
      "cell_type": "code",
      "source": [
        "num_data = np.array([11, 22, 33, 44, 55, 66, 77, 88, 99])\n",
        "print(num_data[:])\n",
        "print(num_data[::1])\n",
        "print(num_data[::2]) # start and stop parameters is unspecified, use step size = 2\n",
        "print(num_data[::-1])  #print all elements in reverse order"
      ],
      "metadata": {
        "colab": {
          "base_uri": "https://localhost:8080/"
        },
        "id": "pFapijj_5LAJ",
        "outputId": "9f782236-065d-48e3-8b47-8acb86338b3d"
      },
      "execution_count": null,
      "outputs": [
        {
          "output_type": "stream",
          "name": "stdout",
          "text": [
            "[11 22 33 44 55 66 77 88 99]\n",
            "[11 22 33 44 55 66 77 88 99]\n",
            "[11 33 55 77 99]\n",
            "[99 88 77 66 55 44 33 22 11]\n"
          ]
        }
      ]
    },
    {
      "cell_type": "code",
      "source": [
        "#write a code to check string is palindrone or not\n",
        "string = input(\"Enter a string: \")\n",
        "if string == string[::-1]:\n",
        "    print(\"The string is a palindrome.\")\n",
        "else:\n",
        "    print(\"The string is not a palindrome.\")"
      ],
      "metadata": {
        "colab": {
          "base_uri": "https://localhost:8080/"
        },
        "id": "ObAYHWmQ5sxT",
        "outputId": "dbacbbe2-7ee8-401f-a55c-18bf3a75dd5f"
      },
      "execution_count": null,
      "outputs": [
        {
          "output_type": "stream",
          "name": "stdout",
          "text": [
            "Enter a string: 123454321\n",
            "The string is a palindrome.\n"
          ]
        }
      ]
    },
    {
      "cell_type": "code",
      "source": [
        "#give code for reshaping the array using reshape function\n",
        "data = np.array([1,2,3,4,5,6,7,8,9])\n",
        "data.reshape(3,3)\n"
      ],
      "metadata": {
        "colab": {
          "base_uri": "https://localhost:8080/"
        },
        "id": "uR50RhXv6gKu",
        "outputId": "9e81e404-55f0-4567-8ab4-ca3539779c2c"
      },
      "execution_count": null,
      "outputs": [
        {
          "output_type": "execute_result",
          "data": {
            "text/plain": [
              "array([[1, 2, 3],\n",
              "       [4, 5, 6],\n",
              "       [7, 8, 9]])"
            ]
          },
          "metadata": {},
          "execution_count": 37
        }
      ]
    },
    {
      "cell_type": "code",
      "source": [
        "#transpose\n",
        "array=np.array([[1,2,3],[4,5,6]])\n",
        "print(array.T)\n",
        "\n"
      ],
      "metadata": {
        "colab": {
          "base_uri": "https://localhost:8080/"
        },
        "id": "lVP1mqsQ7uaT",
        "outputId": "56723261-fd8e-4ac5-e62c-c979f3544c1a"
      },
      "execution_count": null,
      "outputs": [
        {
          "output_type": "stream",
          "name": "stdout",
          "text": [
            "[[1 4]\n",
            " [2 5]\n",
            " [3 6]]\n"
          ]
        }
      ]
    },
    {
      "cell_type": "code",
      "source": [
        "array = np.array([[1,2,3],[4,5,6]])\n",
        "print(array.flatten())"
      ],
      "metadata": {
        "colab": {
          "base_uri": "https://localhost:8080/"
        },
        "id": "H6r6Ym328ZSu",
        "outputId": "e83427cc-10a7-4855-ba5e-0bac294fa6e1"
      },
      "execution_count": null,
      "outputs": [
        {
          "output_type": "stream",
          "name": "stdout",
          "text": [
            "[1 2 3 4 5 6]\n"
          ]
        }
      ]
    },
    {
      "cell_type": "code",
      "source": [
        "#calculating mean median and mode\n",
        "data = np.array([1,2,3,4,5])\n",
        "print(np.mean(data))\n",
        "print(np.median(data))\n",
        "print(np.std(data))"
      ],
      "metadata": {
        "colab": {
          "base_uri": "https://localhost:8080/"
        },
        "id": "-F56xMnJ8ukt",
        "outputId": "e0d7ead6-18ea-4ede-ae37-e1a1528ddcbe"
      },
      "execution_count": null,
      "outputs": [
        {
          "output_type": "stream",
          "name": "stdout",
          "text": [
            "3.0\n",
            "3.0\n",
            "1.4142135623730951\n"
          ]
        }
      ]
    },
    {
      "cell_type": "code",
      "source": [
        "energy_consumption=np.array([1200,3400,2900,1800,2500])\n",
        "print(\"Energy consumption (in Mwh) for different renewable sources\")\n",
        "print(energy_consumption)\n",
        "\n",
        "#finding mean mode and median for the above\n",
        "print(\"Mean energy consumption:\",np.mean(energy_consumption))\n",
        "print(\"Median energy consumption:\",np.median(energy_consumption))\n",
        "print(\"Standard deviation of energy consumption:\",np.std(energy_consumption))"
      ],
      "metadata": {
        "colab": {
          "base_uri": "https://localhost:8080/"
        },
        "id": "fP_q4Wkm9i--",
        "outputId": "c76028c6-a8f7-4887-e7f1-dddf50372612"
      },
      "execution_count": null,
      "outputs": [
        {
          "output_type": "stream",
          "name": "stdout",
          "text": [
            "Energy consumption (in Mwh) for different renewable sources\n",
            "[1200 3400 2900 1800 2500]\n",
            "Mean energy consumption: 2360.0\n",
            "Median energy consumption: 2500.0\n",
            "Standard deviation of energy consumption: 781.2809993849844\n"
          ]
        }
      ]
    },
    {
      "cell_type": "code",
      "source": [
        "#reshaping the array\n",
        "data = np.array([1,2,3,4,5,6,7,8,9])\n",
        "data.reshape(3,3)"
      ],
      "metadata": {
        "colab": {
          "base_uri": "https://localhost:8080/"
        },
        "id": "mkhWkgeV-ZTW",
        "outputId": "2603c682-7b70-4f7e-e6ae-90e495c82af7"
      },
      "execution_count": null,
      "outputs": [
        {
          "output_type": "execute_result",
          "data": {
            "text/plain": [
              "array([[1, 2, 3],\n",
              "       [4, 5, 6],\n",
              "       [7, 8, 9]])"
            ]
          },
          "metadata": {},
          "execution_count": 45
        }
      ]
    }
  ]
}